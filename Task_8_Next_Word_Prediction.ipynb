{
  "cells": [
    {
      "cell_type": "markdown",
      "id": "bd6efad7",
      "metadata": {
        "id": "bd6efad7"
      },
      "source": [
        "# LetsGrowMore (LGMVIP) - \"DATA SCIENCE INTERN\"\n",
        "\n",
        "\n",
        "## Advanced Level Task\n",
        "\n",
        "### TASK-8- Next Word Prediction :"
      ]
    },
    {
      "cell_type": "markdown",
      "id": "3429eef2",
      "metadata": {
        "id": "3429eef2"
      },
      "source": [
        "### Dataset link : https://drive.google.com/file/d/1GeUzNVqiixXHnTl8oNiQ2W3CynX_lsu2/view"
      ]
    },
    {
      "cell_type": "markdown",
      "id": "2386166b",
      "metadata": {
        "id": "2386166b"
      },
      "source": [
        "### Importing Libraries"
      ]
    },
    {
      "cell_type": "code",
      "execution_count": 8,
      "id": "2a9e229d",
      "metadata": {
        "id": "2a9e229d"
      },
      "outputs": [],
      "source": [
        "#Importing packages\n",
        "import numpy as np\n",
        "np.random.seed(30)\n",
        "import tensorflow as tf\n",
        "tf.random.set_seed(30)\n",
        "from tensorflow.keras.models import Sequential, load_model\n",
        "from tensorflow.keras.layers import Dense, Activation\n",
        "from tensorflow.keras.layers import LSTM, Dropout\n",
        "from tensorflow.keras.layers import TimeDistributed\n",
        "from tensorflow.keras.layers import Dense, Activation, Dropout, RepeatVector\n",
        "from tensorflow.keras.optimizers import  RMSprop\n",
        "import matplotlib.pyplot as plt\n",
        "import pickle\n",
        "import heapq"
      ]
    },
    {
      "cell_type": "markdown",
      "id": "6babb355",
      "metadata": {
        "id": "6babb355"
      },
      "source": [
        "### Loading the data"
      ]
    },
    {
      "cell_type": "code",
      "execution_count": 9,
      "id": "0d11efd9",
      "metadata": {
        "colab": {
          "base_uri": "https://localhost:8080/"
        },
        "id": "0d11efd9",
        "outputId": "74ed3aa1-a47f-410b-dbcd-75203faee246"
      },
      "outputs": [
        {
          "output_type": "stream",
          "name": "stdout",
          "text": [
            "corpus length: 581888\n"
          ]
        }
      ],
      "source": [
        "#Loading the data\n",
        "path ='1661-0.txt'\n",
        "text = open(path,encoding = \"utf8\").read().lower()\n",
        "print('corpus length:', len(text))"
      ]
    },
    {
      "cell_type": "markdown",
      "id": "34de126c",
      "metadata": {
        "id": "34de126c"
      },
      "source": [
        "### Data Preprocessing"
      ]
    },
    {
      "cell_type": "code",
      "execution_count": 10,
      "id": "79279329",
      "metadata": {
        "colab": {
          "base_uri": "https://localhost:8080/"
        },
        "id": "79279329",
        "outputId": "645e0b51-7ecd-4da0-a1dc-9ffd84b56754"
      },
      "outputs": [
        {
          "output_type": "stream",
          "name": "stdout",
          "text": [
            "unique chars: 73\n"
          ]
        }
      ],
      "source": [
        "#Data Preprocessing\n",
        "character = sorted(list(set(text)))\n",
        "char_indices = dict((c, i) for i, c in enumerate(character))\n",
        "indices_char = dict((i, c) for i, c in enumerate(character))\n",
        " \n",
        "print(f'unique chars: {len(character)}')"
      ]
    },
    {
      "cell_type": "code",
      "execution_count": 11,
      "id": "1c9d8e9e",
      "metadata": {
        "colab": {
          "base_uri": "https://localhost:8080/"
        },
        "id": "1c9d8e9e",
        "outputId": "bf22296b-a37a-49c7-eeb8-ca8189067537"
      },
      "outputs": [
        {
          "output_type": "stream",
          "name": "stdout",
          "text": [
            "num training examples: 193950\n"
          ]
        }
      ],
      "source": [
        "#chunk 40 characters with 3 sequences\n",
        "seq_len = 40\n",
        "step = 3\n",
        "sentences = []\n",
        "next_chars = []\n",
        "for i in range(0, len(text) - seq_len, step):\n",
        "    sentences.append(text[i: i + seq_len ])\n",
        "    next_chars.append(text[i + seq_len])\n",
        "print(f'num training examples: {len(sentences)}')"
      ]
    },
    {
      "cell_type": "code",
      "execution_count": 12,
      "id": "9a24d796",
      "metadata": {
        "colab": {
          "base_uri": "https://localhost:8080/",
          "height": 160
        },
        "id": "9a24d796",
        "outputId": "aa7ea5c1-b903-4727-e0b7-8d28b09ae450"
      },
      "outputs": [
        {
          "output_type": "stream",
          "name": "stderr",
          "text": [
            "<ipython-input-12-2f2383d5361d>:3: DeprecationWarning: `np.bool` is a deprecated alias for the builtin `bool`. To silence this warning, use `bool` by itself. Doing this will not modify any behavior and is safe. If you specifically wanted the numpy scalar type, use `np.bool_` here.\n",
            "Deprecated in NumPy 1.20; for more details and guidance: https://numpy.org/devdocs/release/1.20.0-notes.html#deprecations\n",
            "  X = np.zeros((len(sentences), seq_len, len(character)), dtype=np.bool)\n",
            "<ipython-input-12-2f2383d5361d>:4: DeprecationWarning: `np.bool` is a deprecated alias for the builtin `bool`. To silence this warning, use `bool` by itself. Doing this will not modify any behavior and is safe. If you specifically wanted the numpy scalar type, use `np.bool_` here.\n",
            "Deprecated in NumPy 1.20; for more details and guidance: https://numpy.org/devdocs/release/1.20.0-notes.html#deprecations\n",
            "  y = np.zeros((len(sentences), len(character)), dtype=np.bool)\n"
          ]
        },
        {
          "output_type": "execute_result",
          "data": {
            "text/plain": [
              "'e'"
            ],
            "application/vnd.google.colaboratory.intrinsic+json": {
              "type": "string"
            }
          },
          "metadata": {},
          "execution_count": 12
        }
      ],
      "source": [
        "# generating our features and labels\n",
        "#one hot encoding\n",
        "X = np.zeros((len(sentences), seq_len, len(character)), dtype=np.bool)\n",
        "y = np.zeros((len(sentences), len(character)), dtype=np.bool)\n",
        "for i, sentence in enumerate(sentences):\n",
        "    for t, char in enumerate(sentence):\n",
        "        X[i, t, char_indices[char]] = 1\n",
        "    y[i, char_indices[next_chars[i]]] = 1\n",
        "\n",
        "sentences[124]\n",
        "next_chars[100]\n"
      ]
    },
    {
      "cell_type": "code",
      "execution_count": 13,
      "id": "3d69f2bf",
      "metadata": {
        "colab": {
          "base_uri": "https://localhost:8080/"
        },
        "id": "3d69f2bf",
        "outputId": "2eca09e4-22d3-4cf4-9d82-e2eeeb05f1e8"
      },
      "outputs": [
        {
          "output_type": "execute_result",
          "data": {
            "text/plain": [
              "array([False, False, False, False, False, False, False, False, False,\n",
              "       False, False, False, False, False, False, False, False, False,\n",
              "       False, False, False, False, False, False, False, False, False,\n",
              "       False, False, False, False, False, False, False, False, False,\n",
              "       False, False, False, False, False, False, False, False, False,\n",
              "       False, False, False, False, False, False, False, False, False,\n",
              "       False, False, False, False, False, False, False, False, False,\n",
              "       False, False, False, False, False, False, False, False, False,\n",
              "        True])"
            ]
          },
          "metadata": {},
          "execution_count": 13
        }
      ],
      "source": [
        "#one hot encoded data\n",
        "X[0][0]"
      ]
    },
    {
      "cell_type": "code",
      "execution_count": 14,
      "id": "2c33ffab",
      "metadata": {
        "colab": {
          "base_uri": "https://localhost:8080/"
        },
        "id": "2c33ffab",
        "outputId": "b93417f5-a73c-45e0-d7a6-2035d2d2433f"
      },
      "outputs": [
        {
          "output_type": "execute_result",
          "data": {
            "text/plain": [
              "array([False, False, False, False, False, False, False, False, False,\n",
              "       False, False, False, False, False, False, False, False, False,\n",
              "       False, False, False, False, False, False, False, False, False,\n",
              "       False, False, False, False, False, False, False, False, False,\n",
              "       False, False, False, False, False, False, False, False, False,\n",
              "       False, False, False, False, False, False,  True, False, False,\n",
              "       False, False, False, False, False, False, False, False, False,\n",
              "       False, False, False, False, False, False, False, False, False,\n",
              "       False])"
            ]
          },
          "metadata": {},
          "execution_count": 14
        }
      ],
      "source": [
        "#one hot encoded data\n",
        "y[0]"
      ]
    },
    {
      "cell_type": "code",
      "execution_count": 15,
      "id": "76d09bde",
      "metadata": {
        "colab": {
          "base_uri": "https://localhost:8080/"
        },
        "id": "76d09bde",
        "outputId": "e0be3e39-fd69-496a-96a4-1f2cb1f540ad"
      },
      "outputs": [
        {
          "output_type": "execute_result",
          "data": {
            "text/plain": [
              "(193950, 40, 73)"
            ]
          },
          "metadata": {},
          "execution_count": 15
        }
      ],
      "source": [
        "X.shape"
      ]
    },
    {
      "cell_type": "code",
      "execution_count": 16,
      "id": "4791ae26",
      "metadata": {
        "colab": {
          "base_uri": "https://localhost:8080/"
        },
        "id": "4791ae26",
        "outputId": "f7108353-70d0-40ed-9bd0-ee78b8045bb2"
      },
      "outputs": [
        {
          "output_type": "execute_result",
          "data": {
            "text/plain": [
              "(193950, 73)"
            ]
          },
          "metadata": {},
          "execution_count": 16
        }
      ],
      "source": [
        "y.shape"
      ]
    },
    {
      "cell_type": "markdown",
      "id": "8488da27",
      "metadata": {
        "id": "8488da27"
      },
      "source": [
        "### Creating the model"
      ]
    },
    {
      "cell_type": "code",
      "execution_count": 17,
      "id": "d9b3b0fc",
      "metadata": {
        "id": "d9b3b0fc"
      },
      "outputs": [],
      "source": [
        "# Creating the model\n",
        "model = Sequential()\n",
        "model.add(LSTM(128, input_shape=(seq_len, len(character))))\n",
        "model.add(Dense(len(character)))\n",
        "model.add(Activation('softmax'))"
      ]
    },
    {
      "cell_type": "markdown",
      "id": "e1b46661",
      "metadata": {
        "id": "e1b46661"
      },
      "source": [
        "### Model summary"
      ]
    },
    {
      "cell_type": "code",
      "execution_count": 18,
      "id": "1efaff79",
      "metadata": {
        "colab": {
          "base_uri": "https://localhost:8080/"
        },
        "id": "1efaff79",
        "outputId": "6fcc15b0-2687-4b2f-aa40-e314395c414d"
      },
      "outputs": [
        {
          "output_type": "stream",
          "name": "stdout",
          "text": [
            "Model: \"sequential\"\n",
            "_________________________________________________________________\n",
            " Layer (type)                Output Shape              Param #   \n",
            "=================================================================\n",
            " lstm (LSTM)                 (None, 128)               103424    \n",
            "                                                                 \n",
            " dense (Dense)               (None, 73)                9417      \n",
            "                                                                 \n",
            " activation (Activation)     (None, 73)                0         \n",
            "                                                                 \n",
            "=================================================================\n",
            "Total params: 112,841\n",
            "Trainable params: 112,841\n",
            "Non-trainable params: 0\n",
            "_________________________________________________________________\n"
          ]
        }
      ],
      "source": [
        "model.summary()"
      ]
    },
    {
      "cell_type": "markdown",
      "id": "8d47fa8a",
      "metadata": {
        "id": "8d47fa8a"
      },
      "source": [
        "### Training our model"
      ]
    },
    {
      "cell_type": "code",
      "execution_count": 19,
      "id": "863d56a1",
      "metadata": {
        "colab": {
          "base_uri": "https://localhost:8080/"
        },
        "id": "863d56a1",
        "outputId": "97027608-2f9a-442a-9825-c20baa6fd35a"
      },
      "outputs": [
        {
          "output_type": "stream",
          "name": "stdout",
          "text": [
            "Epoch 1/7\n",
            "1501/1501 [==============================] - 18s 7ms/step - loss: 2.0371 - accuracy: 0.4033 - val_loss: 2.2340 - val_accuracy: 0.3876\n",
            "Epoch 2/7\n",
            "1501/1501 [==============================] - 8s 5ms/step - loss: 1.6639 - accuracy: 0.5029 - val_loss: 2.0719 - val_accuracy: 0.4263\n",
            "Epoch 3/7\n",
            "1501/1501 [==============================] - 9s 6ms/step - loss: 1.5445 - accuracy: 0.5343 - val_loss: 1.9604 - val_accuracy: 0.4588\n",
            "Epoch 4/7\n",
            "1501/1501 [==============================] - 8s 6ms/step - loss: 1.4805 - accuracy: 0.5526 - val_loss: 1.9104 - val_accuracy: 0.4655\n",
            "Epoch 5/7\n",
            "1501/1501 [==============================] - 8s 5ms/step - loss: 1.4385 - accuracy: 0.5632 - val_loss: 1.9028 - val_accuracy: 0.4809\n",
            "Epoch 6/7\n",
            "1501/1501 [==============================] - 9s 6ms/step - loss: 1.4085 - accuracy: 0.5702 - val_loss: 1.9026 - val_accuracy: 0.4918\n",
            "Epoch 7/7\n",
            "1501/1501 [==============================] - 9s 6ms/step - loss: 1.3867 - accuracy: 0.5758 - val_loss: 1.9218 - val_accuracy: 0.4696\n"
          ]
        }
      ],
      "source": [
        "# Training our model\n",
        "optimizer = RMSprop(learning_rate=0.01)\n",
        "model.compile(loss='categorical_crossentropy', optimizer=optimizer, metrics=['accuracy'])\n",
        "history = model.fit(X, y,\n",
        "                    validation_split=0.01, \n",
        "                    batch_size=128,\n",
        "                    epochs=7, \n",
        "                    shuffle=True).history"
      ]
    },
    {
      "cell_type": "markdown",
      "id": "956a9c90",
      "metadata": {
        "id": "956a9c90"
      },
      "source": [
        "### saving our model"
      ]
    },
    {
      "cell_type": "code",
      "execution_count": 20,
      "id": "44902adb",
      "metadata": {
        "id": "44902adb"
      },
      "outputs": [],
      "source": [
        "#saving our model\n",
        "model.save('NW_keras_model.h5')\n",
        "pickle.dump(history, open(\"history.p\", \"wb\"))"
      ]
    },
    {
      "cell_type": "markdown",
      "id": "6284b753",
      "metadata": {
        "id": "6284b753"
      },
      "source": [
        "### loading our model"
      ]
    },
    {
      "cell_type": "code",
      "execution_count": 21,
      "id": "190125b7",
      "metadata": {
        "id": "190125b7"
      },
      "outputs": [],
      "source": [
        "#loading our model\n",
        "model = load_model('NW_keras_model.h5')\n",
        "history = pickle.load(open(\"history.p\", \"rb\"))"
      ]
    },
    {
      "cell_type": "markdown",
      "id": "a466c98e",
      "metadata": {
        "id": "a466c98e"
      },
      "source": [
        "### Model Evaluation "
      ]
    },
    {
      "cell_type": "code",
      "execution_count": 22,
      "id": "26237ce8",
      "metadata": {
        "colab": {
          "base_uri": "https://localhost:8080/"
        },
        "id": "26237ce8",
        "outputId": "c15fde46-197b-42c8-ddfd-96f39b7b95c7"
      },
      "outputs": [
        {
          "output_type": "stream",
          "name": "stdout",
          "text": [
            "6061/6061 [==============================] - 25s 4ms/step - loss: 1.3410 - accuracy: 0.5880\n",
            "Test Loss 1.3409823179244995\n",
            "Test Accuracy 0.5880330204963684\n"
          ]
        }
      ],
      "source": [
        "#Model Evaluation\n",
        "loss_and_acc=model.evaluate(X,y)\n",
        "print(\"Test Loss\", loss_and_acc[0])\n",
        "print(\"Test Accuracy\", loss_and_acc[1])"
      ]
    },
    {
      "cell_type": "markdown",
      "id": "f4304f7a",
      "metadata": {
        "id": "f4304f7a"
      },
      "source": [
        "### Plotting training and validation plots"
      ]
    },
    {
      "cell_type": "code",
      "execution_count": 23,
      "id": "568a0bb2",
      "metadata": {
        "colab": {
          "base_uri": "https://localhost:8080/",
          "height": 346
        },
        "id": "568a0bb2",
        "outputId": "07f90b49-49f1-4db6-ecc3-b5ad80e7fe69"
      },
      "outputs": [
        {
          "output_type": "display_data",
          "data": {
            "text/plain": [
              "<Figure size 2000x600 with 2 Axes>"
            ],
            "image/png": "[encoded data removed]"
          },
          "metadata": {}
        }
      ],
      "source": [
        "acc = history['accuracy']\n",
        "val_acc = history['val_accuracy']\n",
        "loss = history['loss']\n",
        "val_loss = history['val_loss']\n",
        "epochs = range(len(acc))\n",
        "\n",
        "\n",
        "fig, ax = plt.subplots(nrows=1, ncols=2, figsize=(20, 6))\n",
        "ax[0].plot(epochs, acc, 'y', label='Training accuracy')\n",
        "ax[0].plot(epochs, val_acc, 'g', label='Validation accuracy')\n",
        "ax[0].legend(loc=0)\n",
        "ax[1].plot(epochs, loss, 'y', label='Training loss')\n",
        "ax[1].plot(epochs, val_loss, 'g', label='Validation loss')\n",
        "ax[1].legend(loc=0)\n",
        "\n",
        "plt.suptitle('Training and validation')\n",
        "plt.show()"
      ]
    },
    {
      "cell_type": "code",
      "execution_count": 24,
      "id": "a25049ef",
      "metadata": {
        "colab": {
          "base_uri": "https://localhost:8080/"
        },
        "id": "a25049ef",
        "outputId": "a72b113a-3129-424e-9f42-191299469852"
      },
      "outputs": [
        {
          "output_type": "execute_result",
          "data": {
            "text/plain": [
              "array([[[0., 0., 0., ..., 0., 0., 0.],\n",
              "        [0., 0., 0., ..., 0., 0., 0.],\n",
              "        [0., 0., 0., ..., 0., 0., 0.],\n",
              "        ...,\n",
              "        [0., 0., 0., ..., 0., 0., 0.],\n",
              "        [0., 0., 0., ..., 0., 0., 0.],\n",
              "        [0., 0., 0., ..., 0., 0., 0.]]])"
            ]
          },
          "metadata": {},
          "execution_count": 24
        }
      ],
      "source": [
        "def prepare_input(text):\n",
        "    x = np.zeros((1, seq_len, len(character)))\n",
        "    for t, char in enumerate(text):\n",
        "        x[0, t, char_indices[char]] = 1.\n",
        "        \n",
        "    return x\n",
        "\n",
        "prepare_input(\"This is an example of input of our model\".lower())"
      ]
    },
    {
      "cell_type": "code",
      "execution_count": 25,
      "id": "acf44484",
      "metadata": {
        "id": "acf44484"
      },
      "outputs": [],
      "source": [
        "#functions to get next probable characters\n",
        "def sample(preds, top_n=3):\n",
        "    preds = np.asarray(preds).astype('float64')\n",
        "    preds = np.log(preds)\n",
        "    exp_preds = np.exp(preds)\n",
        "    preds = exp_preds / np.sum(exp_preds)\n",
        "    \n",
        "    return heapq.nlargest(top_n, range(len(preds)), preds.take)"
      ]
    },
    {
      "cell_type": "code",
      "execution_count": 26,
      "id": "57d30f0d",
      "metadata": {
        "id": "57d30f0d"
      },
      "outputs": [],
      "source": [
        "def predict_completion(text):\n",
        "    original_text = text\n",
        "    generated = text\n",
        "    completion = ''\n",
        "    while True:\n",
        "        x = prepare_input(text)\n",
        "        preds = model.predict(x, verbose=0)[0]\n",
        "        next_index = sample(preds, top_n=1)[0]\n",
        "        next_char = indices_char[next_index]\n",
        "        text = text[1:] + next_char\n",
        "        completion += next_char\n",
        "        \n",
        "        if len(original_text + completion) + 2 > len(original_text) and next_char == ' ':\n",
        "            return completion"
      ]
    },
    {
      "cell_type": "code",
      "execution_count": 27,
      "id": "35abaf79",
      "metadata": {
        "id": "35abaf79"
      },
      "outputs": [],
      "source": [
        "def predict_completions(text, n=3):\n",
        "    x = prepare_input(text)\n",
        "    preds = model.predict(x, verbose=0)[0]\n",
        "    next_indices = sample(preds, n)\n",
        "    return [indices_char[idx] + predict_completion(text[1:] + indices_char[idx]) for idx in next_indices]"
      ]
    },
    {
      "cell_type": "code",
      "execution_count": 30,
      "id": "2efa9355",
      "metadata": {
        "id": "2efa9355"
      },
      "outputs": [],
      "source": [
        "#Prediction\n",
        "quotes = [   \n",
        "    \n",
        "    \"Data science involves extracting insights and knowledge from large and complex datasets.\",\n",
        "    \"Big data analytics enables businesses to gain valuable insights and make data-driven decisions.\",\n",
        "    \"Deep learning is subset of machine learning,which is essentially a neural network with three or more layers.\",\n",
        "    \"Machine learning algorithms can be used to predict customer behavior based on historical data.\",\n",
        "    \"Big data analytics enables businesses to gain valuable insights and make data-driven decisions.\"\n",
        "    \n",
        "]"
      ]
    },
    {
      "cell_type": "code",
      "execution_count": 31,
      "id": "a694ddd6",
      "metadata": {
        "colab": {
          "base_uri": "https://localhost:8080/"
        },
        "id": "a694ddd6",
        "outputId": "5f3d91c8-fd5e-4ed8-d904-604f483a676c"
      },
      "outputs": [
        {
          "output_type": "stream",
          "name": "stdout",
          "text": [
            "data science involves extracting insight\n",
            "[' and ', 'ened ', '\\nand ', '. ', ', ']\n",
            "\n",
            "big data analytics enables businesses to\n",
            "[' the ', 'ld ', 'ok ', 'ng ', '\\nthe ']\n",
            "\n",
            "deep learning is subset of machine learn\n",
            "['ed ', ' and ', 'ing ', '\\nand ', '. ']\n",
            "\n",
            "machine learning algorithms can be used \n",
            "['to ', 'at ', 'of ', 'in ', 'before ']\n",
            "\n",
            "big data analytics enables businesses to\n",
            "[' the ', 'ld ', 'ok ', 'ng ', '\\nthe ']\n",
            "\n"
          ]
        }
      ],
      "source": [
        "for q in quotes:\n",
        "    seq = q[:40].lower()\n",
        "    print(seq)\n",
        "    print(predict_completions(seq, 5))\n",
        "    print()"
      ]
    },
    {
      "cell_type": "code",
      "execution_count": 29,
      "id": "9ea1b9e9",
      "metadata": {
        "id": "9ea1b9e9"
      },
      "outputs": [],
      "source": []
    }
  ],
  "metadata": {
    "kernelspec": {
      "display_name": "Python 3",
      "name": "python3"
    },
    "language_info": {
      "codemirror_mode": {
        "name": "ipython",
        "version": 3
      },
      "file_extension": ".py",
      "mimetype": "text/x-python",
      "name": "python",
      "nbconvert_exporter": "python",
      "pygments_lexer": "ipython3",
      "version": "3.8.5"
    },
    "colab": {
      "provenance": [],
      "gpuType": "T4"
    },
    "accelerator": "GPU"
  },
  "nbformat": 4,
  "nbformat_minor": 5
}